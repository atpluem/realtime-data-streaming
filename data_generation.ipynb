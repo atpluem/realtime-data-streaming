{
 "cells": [
  {
   "cell_type": "code",
   "execution_count": 4,
   "id": "38ffbee9",
   "metadata": {},
   "outputs": [],
   "source": [
    "%%capture\n",
    "pip install faker"
   ]
  },
  {
   "cell_type": "code",
   "execution_count": 1,
   "id": "f5176f52",
   "metadata": {},
   "outputs": [],
   "source": [
    "from faker import Faker\n",
    "from datetime import datetime\n",
    "import csv\n",
    "\n",
    "fake = Faker()"
   ]
  },
  {
   "cell_type": "code",
   "execution_count": 2,
   "id": "2a0b0dae",
   "metadata": {},
   "outputs": [],
   "source": [
    "RECORD_COUNT = 10000"
   ]
  },
  {
   "cell_type": "code",
   "execution_count": 3,
   "id": "3aff5e41",
   "metadata": {},
   "outputs": [],
   "source": [
    "def create_csv_file():\n",
    "    current_time = datetime.now().strftime(\"%Y%m%d%H%M%S\")\n",
    "    with open(f\"FakeDataset/customer_{current_time}.csv\", \"w\", newline=\"\") as f:\n",
    "        field_names = [\"customer_id\",\"first_name\",\"last_name\",\"email\",\n",
    "                       \"street\", \"city\",\"state\",\"country\"]\n",
    "        writer = csv.DictWriter(f, fieldnames=field_names)\n",
    "        writer.writeheader()\n",
    "        \n",
    "        for i in range(RECORD_COUNT):\n",
    "            writer.writerow(\n",
    "                {\n",
    "                    \"customer_id\": i,#fake.random_int(min=1, max=10000),\n",
    "                    'first_name': fake.first_name(),\n",
    "                    'last_name': fake.last_name(),\n",
    "                    'email': fake.email(),\n",
    "                    'street': fake.street_address(),\n",
    "                    'city': fake.city(),\n",
    "                    'state': fake.state(),\n",
    "                    'country': fake.country()\n",
    "                }\n",
    "            )"
   ]
  },
  {
   "cell_type": "code",
   "execution_count": 4,
   "id": "d678f776",
   "metadata": {},
   "outputs": [],
   "source": [
    "if __name__ == \"__main__\":\n",
    "    create_csv_file()"
   ]
  }
 ],
 "metadata": {
  "kernelspec": {
   "display_name": "Python 3 (ipykernel)",
   "language": "python",
   "name": "python3"
  },
  "language_info": {
   "codemirror_mode": {
    "name": "ipython",
    "version": 3
   },
   "file_extension": ".py",
   "mimetype": "text/x-python",
   "name": "python",
   "nbconvert_exporter": "python",
   "pygments_lexer": "ipython3",
   "version": "3.7.3"
  }
 },
 "nbformat": 4,
 "nbformat_minor": 5
}
